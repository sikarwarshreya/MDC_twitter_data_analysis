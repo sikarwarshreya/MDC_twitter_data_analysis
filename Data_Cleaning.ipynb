{
 "cells": [
  {
   "cell_type": "code",
   "execution_count": 1,
   "id": "b8a91aea",
   "metadata": {},
   "outputs": [],
   "source": [
    "import json\n",
    "import pandas as pd\n",
    "from datetime import datetime\n",
    "start_time=datetime.now()"
   ]
  },
  {
   "cell_type": "code",
   "execution_count": 2,
   "id": "fa6c4ffd",
   "metadata": {},
   "outputs": [],
   "source": [
    "with open('stage1.json') as f:\n",
    "    data=json.load(f)\n",
    "    "
   ]
  },
  {
   "cell_type": "code",
   "execution_count": 3,
   "id": "774c942e",
   "metadata": {},
   "outputs": [],
   "source": [
    "df=pd.DataFrame(data)"
   ]
  },
  {
   "cell_type": "code",
   "execution_count": 4,
   "id": "242f226d",
   "metadata": {},
   "outputs": [
    {
     "data": {
      "text/html": [
       "<div>\n",
       "<style scoped>\n",
       "    .dataframe tbody tr th:only-of-type {\n",
       "        vertical-align: middle;\n",
       "    }\n",
       "\n",
       "    .dataframe tbody tr th {\n",
       "        vertical-align: top;\n",
       "    }\n",
       "\n",
       "    .dataframe thead th {\n",
       "        text-align: right;\n",
       "    }\n",
       "</style>\n",
       "<table border=\"1\" class=\"dataframe\">\n",
       "  <thead>\n",
       "    <tr style=\"text-align: right;\">\n",
       "      <th></th>\n",
       "      <th>id</th>\n",
       "      <th>id_str</th>\n",
       "      <th>full_text</th>\n",
       "      <th>source</th>\n",
       "      <th>source_url</th>\n",
       "      <th>retweet_count</th>\n",
       "      <th>favorite_count</th>\n",
       "      <th>lang</th>\n",
       "      <th>quoted_status_id</th>\n",
       "      <th>quoted_status_id_str</th>\n",
       "      <th>in_reply_to_status_id</th>\n",
       "      <th>in_reply_to_status_id_str</th>\n",
       "      <th>in_reply_to_user_id</th>\n",
       "      <th>in_reply_to_user_id_str</th>\n",
       "      <th>in_reply_to_screen_name</th>\n",
       "    </tr>\n",
       "  </thead>\n",
       "  <tbody>\n",
       "    <tr>\n",
       "      <th>0</th>\n",
       "      <td>1465948889761173507</td>\n",
       "      <td>1465948889761173507</td>\n",
       "      <td>EXPLOSIVE—We now learn Trump had tested positi...</td>\n",
       "      <td>Twitter for iPhone</td>\n",
       "      <td>http://twitter.com/download/iphone</td>\n",
       "      <td>5273</td>\n",
       "      <td>11800</td>\n",
       "      <td>en</td>\n",
       "      <td>NaN</td>\n",
       "      <td>None</td>\n",
       "      <td>NaN</td>\n",
       "      <td>None</td>\n",
       "      <td>NaN</td>\n",
       "      <td>None</td>\n",
       "      <td>None</td>\n",
       "    </tr>\n",
       "    <tr>\n",
       "      <th>1</th>\n",
       "      <td>1466046988500230146</td>\n",
       "      <td>1466046988500230146</td>\n",
       "      <td>So we now learn that this wise guy who mocked ...</td>\n",
       "      <td>Twitter for iPhone</td>\n",
       "      <td>http://twitter.com/download/iphone</td>\n",
       "      <td>1964</td>\n",
       "      <td>6256</td>\n",
       "      <td>en</td>\n",
       "      <td>NaN</td>\n",
       "      <td>None</td>\n",
       "      <td>NaN</td>\n",
       "      <td>None</td>\n",
       "      <td>NaN</td>\n",
       "      <td>None</td>\n",
       "      <td>None</td>\n",
       "    </tr>\n",
       "    <tr>\n",
       "      <th>2</th>\n",
       "      <td>1466089777938280452</td>\n",
       "      <td>1466089777938280452</td>\n",
       "      <td>#COVID19 UPDATE: A total of 51,977 tests were ...</td>\n",
       "      <td>Hootsuite Inc.</td>\n",
       "      <td>https://www.hootsuite.com</td>\n",
       "      <td>593</td>\n",
       "      <td>624</td>\n",
       "      <td>en</td>\n",
       "      <td>NaN</td>\n",
       "      <td>None</td>\n",
       "      <td>NaN</td>\n",
       "      <td>None</td>\n",
       "      <td>NaN</td>\n",
       "      <td>None</td>\n",
       "      <td>None</td>\n",
       "    </tr>\n",
       "    <tr>\n",
       "      <th>3</th>\n",
       "      <td>1466385507298983942</td>\n",
       "      <td>1466385507298983942</td>\n",
       "      <td>RT @LLopezGonzalez: 1/2 What does early South ...</td>\n",
       "      <td>Twitter Web App</td>\n",
       "      <td>https://mobile.twitter.com</td>\n",
       "      <td>44</td>\n",
       "      <td>0</td>\n",
       "      <td>en</td>\n",
       "      <td>NaN</td>\n",
       "      <td>None</td>\n",
       "      <td>NaN</td>\n",
       "      <td>None</td>\n",
       "      <td>NaN</td>\n",
       "      <td>None</td>\n",
       "      <td>None</td>\n",
       "    </tr>\n",
       "    <tr>\n",
       "      <th>4</th>\n",
       "      <td>1466385504690008070</td>\n",
       "      <td>1466385504690008070</td>\n",
       "      <td>RT @TajinderSTS: #LargestVaccineDrive achieves...</td>\n",
       "      <td>Twitter for Android</td>\n",
       "      <td>http://twitter.com/download/android</td>\n",
       "      <td>41</td>\n",
       "      <td>0</td>\n",
       "      <td>en</td>\n",
       "      <td>NaN</td>\n",
       "      <td>None</td>\n",
       "      <td>NaN</td>\n",
       "      <td>None</td>\n",
       "      <td>NaN</td>\n",
       "      <td>None</td>\n",
       "      <td>None</td>\n",
       "    </tr>\n",
       "  </tbody>\n",
       "</table>\n",
       "</div>"
      ],
      "text/plain": [
       "                    id               id_str  \\\n",
       "0  1465948889761173507  1465948889761173507   \n",
       "1  1466046988500230146  1466046988500230146   \n",
       "2  1466089777938280452  1466089777938280452   \n",
       "3  1466385507298983942  1466385507298983942   \n",
       "4  1466385504690008070  1466385504690008070   \n",
       "\n",
       "                                           full_text               source  \\\n",
       "0  EXPLOSIVE—We now learn Trump had tested positi...   Twitter for iPhone   \n",
       "1  So we now learn that this wise guy who mocked ...   Twitter for iPhone   \n",
       "2  #COVID19 UPDATE: A total of 51,977 tests were ...       Hootsuite Inc.   \n",
       "3  RT @LLopezGonzalez: 1/2 What does early South ...      Twitter Web App   \n",
       "4  RT @TajinderSTS: #LargestVaccineDrive achieves...  Twitter for Android   \n",
       "\n",
       "                            source_url  retweet_count  favorite_count lang  \\\n",
       "0   http://twitter.com/download/iphone           5273           11800   en   \n",
       "1   http://twitter.com/download/iphone           1964            6256   en   \n",
       "2            https://www.hootsuite.com            593             624   en   \n",
       "3           https://mobile.twitter.com             44               0   en   \n",
       "4  http://twitter.com/download/android             41               0   en   \n",
       "\n",
       "   quoted_status_id quoted_status_id_str  in_reply_to_status_id  \\\n",
       "0               NaN                 None                    NaN   \n",
       "1               NaN                 None                    NaN   \n",
       "2               NaN                 None                    NaN   \n",
       "3               NaN                 None                    NaN   \n",
       "4               NaN                 None                    NaN   \n",
       "\n",
       "  in_reply_to_status_id_str  in_reply_to_user_id in_reply_to_user_id_str  \\\n",
       "0                      None                  NaN                    None   \n",
       "1                      None                  NaN                    None   \n",
       "2                      None                  NaN                    None   \n",
       "3                      None                  NaN                    None   \n",
       "4                      None                  NaN                    None   \n",
       "\n",
       "  in_reply_to_screen_name  \n",
       "0                    None  \n",
       "1                    None  \n",
       "2                    None  \n",
       "3                    None  \n",
       "4                    None  "
      ]
     },
     "execution_count": 4,
     "metadata": {},
     "output_type": "execute_result"
    }
   ],
   "source": [
    "df.head()"
   ]
  },
  {
   "cell_type": "code",
   "execution_count": 5,
   "id": "385417f0",
   "metadata": {},
   "outputs": [
    {
     "name": "stdout",
     "output_type": "stream",
     "text": [
      "<class 'pandas.core.frame.DataFrame'>\n",
      "Index: 100 entries, 0 to 99\n",
      "Data columns (total 15 columns):\n",
      " #   Column                     Non-Null Count  Dtype  \n",
      "---  ------                     --------------  -----  \n",
      " 0   id                         100 non-null    int64  \n",
      " 1   id_str                     100 non-null    object \n",
      " 2   full_text                  100 non-null    object \n",
      " 3   source                     100 non-null    object \n",
      " 4   source_url                 100 non-null    object \n",
      " 5   retweet_count              100 non-null    int64  \n",
      " 6   favorite_count             100 non-null    int64  \n",
      " 7   lang                       100 non-null    object \n",
      " 8   quoted_status_id           9 non-null      float64\n",
      " 9   quoted_status_id_str       9 non-null      object \n",
      " 10  in_reply_to_status_id      5 non-null      float64\n",
      " 11  in_reply_to_status_id_str  5 non-null      object \n",
      " 12  in_reply_to_user_id        5 non-null      float64\n",
      " 13  in_reply_to_user_id_str    5 non-null      object \n",
      " 14  in_reply_to_screen_name    5 non-null      object \n",
      "dtypes: float64(3), int64(3), object(9)\n",
      "memory usage: 12.5+ KB\n"
     ]
    }
   ],
   "source": [
    "df.info()"
   ]
  },
  {
   "cell_type": "code",
   "execution_count": 6,
   "id": "5248281c",
   "metadata": {},
   "outputs": [
    {
     "data": {
      "text/plain": [
       "Index(['id', 'id_str', 'full_text', 'source', 'source_url', 'retweet_count',\n",
       "       'favorite_count', 'lang', 'quoted_status_id', 'quoted_status_id_str',\n",
       "       'in_reply_to_status_id', 'in_reply_to_status_id_str',\n",
       "       'in_reply_to_user_id', 'in_reply_to_user_id_str',\n",
       "       'in_reply_to_screen_name'],\n",
       "      dtype='object')"
      ]
     },
     "execution_count": 6,
     "metadata": {},
     "output_type": "execute_result"
    }
   ],
   "source": [
    "df.columns"
   ]
  },
  {
   "cell_type": "code",
   "execution_count": 7,
   "id": "8c0e93b0",
   "metadata": {},
   "outputs": [
    {
     "data": {
      "text/html": [
       "<div>\n",
       "<style scoped>\n",
       "    .dataframe tbody tr th:only-of-type {\n",
       "        vertical-align: middle;\n",
       "    }\n",
       "\n",
       "    .dataframe tbody tr th {\n",
       "        vertical-align: top;\n",
       "    }\n",
       "\n",
       "    .dataframe thead th {\n",
       "        text-align: right;\n",
       "    }\n",
       "</style>\n",
       "<table border=\"1\" class=\"dataframe\">\n",
       "  <thead>\n",
       "    <tr style=\"text-align: right;\">\n",
       "      <th></th>\n",
       "      <th>id</th>\n",
       "      <th>id_str</th>\n",
       "      <th>full_text</th>\n",
       "      <th>source</th>\n",
       "      <th>source_url</th>\n",
       "      <th>retweet_count</th>\n",
       "      <th>favorite_count</th>\n",
       "      <th>lang</th>\n",
       "    </tr>\n",
       "  </thead>\n",
       "  <tbody>\n",
       "    <tr>\n",
       "      <th>0</th>\n",
       "      <td>1465948889761173507</td>\n",
       "      <td>1465948889761173507</td>\n",
       "      <td>EXPLOSIVE—We now learn Trump had tested positi...</td>\n",
       "      <td>Twitter for iPhone</td>\n",
       "      <td>http://twitter.com/download/iphone</td>\n",
       "      <td>5273</td>\n",
       "      <td>11800</td>\n",
       "      <td>en</td>\n",
       "    </tr>\n",
       "    <tr>\n",
       "      <th>1</th>\n",
       "      <td>1466046988500230146</td>\n",
       "      <td>1466046988500230146</td>\n",
       "      <td>So we now learn that this wise guy who mocked ...</td>\n",
       "      <td>Twitter for iPhone</td>\n",
       "      <td>http://twitter.com/download/iphone</td>\n",
       "      <td>1964</td>\n",
       "      <td>6256</td>\n",
       "      <td>en</td>\n",
       "    </tr>\n",
       "    <tr>\n",
       "      <th>2</th>\n",
       "      <td>1466089777938280452</td>\n",
       "      <td>1466089777938280452</td>\n",
       "      <td>#COVID19 UPDATE: A total of 51,977 tests were ...</td>\n",
       "      <td>Hootsuite Inc.</td>\n",
       "      <td>https://www.hootsuite.com</td>\n",
       "      <td>593</td>\n",
       "      <td>624</td>\n",
       "      <td>en</td>\n",
       "    </tr>\n",
       "    <tr>\n",
       "      <th>3</th>\n",
       "      <td>1466385507298983942</td>\n",
       "      <td>1466385507298983942</td>\n",
       "      <td>RT @LLopezGonzalez: 1/2 What does early South ...</td>\n",
       "      <td>Twitter Web App</td>\n",
       "      <td>https://mobile.twitter.com</td>\n",
       "      <td>44</td>\n",
       "      <td>0</td>\n",
       "      <td>en</td>\n",
       "    </tr>\n",
       "    <tr>\n",
       "      <th>4</th>\n",
       "      <td>1466385504690008070</td>\n",
       "      <td>1466385504690008070</td>\n",
       "      <td>RT @TajinderSTS: #LargestVaccineDrive achieves...</td>\n",
       "      <td>Twitter for Android</td>\n",
       "      <td>http://twitter.com/download/android</td>\n",
       "      <td>41</td>\n",
       "      <td>0</td>\n",
       "      <td>en</td>\n",
       "    </tr>\n",
       "  </tbody>\n",
       "</table>\n",
       "</div>"
      ],
      "text/plain": [
       "                    id               id_str  \\\n",
       "0  1465948889761173507  1465948889761173507   \n",
       "1  1466046988500230146  1466046988500230146   \n",
       "2  1466089777938280452  1466089777938280452   \n",
       "3  1466385507298983942  1466385507298983942   \n",
       "4  1466385504690008070  1466385504690008070   \n",
       "\n",
       "                                           full_text               source  \\\n",
       "0  EXPLOSIVE—We now learn Trump had tested positi...   Twitter for iPhone   \n",
       "1  So we now learn that this wise guy who mocked ...   Twitter for iPhone   \n",
       "2  #COVID19 UPDATE: A total of 51,977 tests were ...       Hootsuite Inc.   \n",
       "3  RT @LLopezGonzalez: 1/2 What does early South ...      Twitter Web App   \n",
       "4  RT @TajinderSTS: #LargestVaccineDrive achieves...  Twitter for Android   \n",
       "\n",
       "                            source_url  retweet_count  favorite_count lang  \n",
       "0   http://twitter.com/download/iphone           5273           11800   en  \n",
       "1   http://twitter.com/download/iphone           1964            6256   en  \n",
       "2            https://www.hootsuite.com            593             624   en  \n",
       "3           https://mobile.twitter.com             44               0   en  \n",
       "4  http://twitter.com/download/android             41               0   en  "
      ]
     },
     "execution_count": 7,
     "metadata": {},
     "output_type": "execute_result"
    }
   ],
   "source": [
    "#drop columns\n",
    "df=df.drop(['quoted_status_id','quoted_status_id_str','in_reply_to_status_id','in_reply_to_status_id_str'\n",
    "         ,'in_reply_to_user_id','in_reply_to_user_id_str','in_reply_to_screen_name'],axis = 1)\n",
    "df.head()"
   ]
  },
  {
   "cell_type": "code",
   "execution_count": null,
   "id": "d161bcb7",
   "metadata": {},
   "outputs": [],
   "source": []
  },
  {
   "cell_type": "code",
   "execution_count": 8,
   "id": "3d73c7bc",
   "metadata": {},
   "outputs": [],
   "source": [
    "#clean_text\n",
    "import re\n",
    "import numpy as np\n",
    "import string\n",
    "import emoji\n",
    "def clean_text(text):\n",
    "    text = str(text).lower()\n",
    "    text = re.sub(r'@[A-Za-z0-9]+','',text)\n",
    "    text = re.sub(r'#','',text)\n",
    "    text = re.sub(r'RT[\\s]+','',text)\n",
    "    text = re.sub(r'rt[\\s]+','',text)\n",
    "    text = re.sub(r'https?:\\/\\/\\S+','',text)\n",
    "    text = re.sub(r'[0-9]','',text)\n",
    "    text = re.sub('[%s]' % re.escape(string.punctuation), '', text)\n",
    "    text = emoji.get_emoji_regexp().sub(\"\",text)\n",
    "    \n",
    "    return text"
   ]
  },
  {
   "cell_type": "code",
   "execution_count": 9,
   "id": "763eb17c",
   "metadata": {},
   "outputs": [
    {
     "name": "stdout",
     "output_type": "stream",
     "text": [
      "0     explosive—we now learn trump had tested positi...\n",
      "1     so we now learn that this wise guy who mocked ...\n",
      "2     covid update a total of  tests were conducted ...\n",
      "3       what does early south african data say about...\n",
      "4      largestvaccinedrive achieves another mileston...\n",
      "                            ...                        \n",
      "95     point to be noted \\nomicron\\nomicronvarient\\n...\n",
      "96     trump test positive for covid before debate a...\n",
      "97      covid deaths in wales have been falling in r...\n",
      "98     the man lied about having covid while meeting...\n",
      "99     to date the country has registered  confirmed...\n",
      "Name: full_text, Length: 100, dtype: object\n"
     ]
    }
   ],
   "source": [
    "df['full_text']=df['full_text'].apply(clean_text)\n",
    "print(df['full_text'])"
   ]
  },
  {
   "cell_type": "code",
   "execution_count": 10,
   "id": "38bacd41",
   "metadata": {},
   "outputs": [
    {
     "name": "stdout",
     "output_type": "stream",
     "text": [
      "['i', 'me', 'my', 'myself', 'we', 'our', 'ours', 'ourselves', 'you', \"you're\", \"you've\", \"you'll\", \"you'd\", 'your', 'yours', 'yourself', 'yourselves', 'he', 'him', 'his', 'himself', 'she', \"she's\", 'her', 'hers', 'herself', 'it', \"it's\", 'its', 'itself', 'they', 'them', 'their', 'theirs', 'themselves', 'what', 'which', 'who', 'whom', 'this', 'that', \"that'll\", 'these', 'those', 'am', 'is', 'are', 'was', 'were', 'be', 'been', 'being', 'have', 'has', 'had', 'having', 'do', 'does', 'did', 'doing', 'a', 'an', 'the', 'and', 'but', 'if', 'or', 'because', 'as', 'until', 'while', 'of', 'at', 'by', 'for', 'with', 'about', 'against', 'between', 'into', 'through', 'during', 'before', 'after', 'above', 'below', 'to', 'from', 'up', 'down', 'in', 'out', 'on', 'off', 'over', 'under', 'again', 'further', 'then', 'once', 'here', 'there', 'when', 'where', 'why', 'how', 'all', 'any', 'both', 'each', 'few', 'more', 'most', 'other', 'some', 'such', 'no', 'nor', 'not', 'only', 'own', 'same', 'so', 'than', 'too', 'very', 's', 't', 'can', 'will', 'just', 'don', \"don't\", 'should', \"should've\", 'now', 'd', 'll', 'm', 'o', 're', 've', 'y', 'ain', 'aren', \"aren't\", 'couldn', \"couldn't\", 'didn', \"didn't\", 'doesn', \"doesn't\", 'hadn', \"hadn't\", 'hasn', \"hasn't\", 'haven', \"haven't\", 'isn', \"isn't\", 'ma', 'mightn', \"mightn't\", 'mustn', \"mustn't\", 'needn', \"needn't\", 'shan', \"shan't\", 'shouldn', \"shouldn't\", 'wasn', \"wasn't\", 'weren', \"weren't\", 'won', \"won't\", 'wouldn', \"wouldn't\"]\n"
     ]
    }
   ],
   "source": [
    "import nltk\n",
    "from nltk.corpus import stopwords\n",
    "stop = stopwords.words('english')\n",
    "#exclude stopwords\n",
    "df['full_text'] = df['full_text'].apply(lambda x: ' '.join([word for word in x.split() if word not in stop]))\n",
    "print(stop)"
   ]
  },
  {
   "cell_type": "code",
   "execution_count": 12,
   "id": "d0f9a4b6",
   "metadata": {},
   "outputs": [
    {
     "data": {
      "text/plain": [
       "0    explosive—we learn trump tested positive covid...\n",
       "1    learn wise guy mocked joe biden presidential d...\n",
       "2    covid update total tests conducted last hrs ne...\n",
       "3    early south african data say omicron amp reinf...\n",
       "4    largestvaccinedrive achieves another milestone...\n",
       "Name: full_text, dtype: object"
      ]
     },
     "execution_count": 12,
     "metadata": {},
     "output_type": "execute_result"
    }
   ],
   "source": [
    "df['full_text'].head()"
   ]
  },
  {
   "cell_type": "code",
   "execution_count": 13,
   "id": "f0a4424d",
   "metadata": {},
   "outputs": [],
   "source": [
    "#lemmatization\n",
    "w_tokenizer=nltk.tokenize.WhitespaceTokenizer()\n",
    "lemmatizer = nltk.stem.WordNetLemmatizer()\n",
    "def Lemmatize_text(text):\n",
    "    return [lemmatizer.lemmatize(w) for w in w_tokenizer.tokenize(text)]\n",
    "\n",
    "df['full_text_lemmatiz']=df['full_text'].apply(Lemmatize_text)"
   ]
  },
  {
   "cell_type": "code",
   "execution_count": 14,
   "id": "68666696",
   "metadata": {},
   "outputs": [
    {
     "data": {
      "text/plain": [
       "0    [explosive—we, learn, trump, tested, positive,...\n",
       "1    [learn, wise, guy, mocked, joe, biden, preside...\n",
       "2    [covid, update, total, test, conducted, last, ...\n",
       "3    [early, south, african, data, say, omicron, am...\n",
       "4    [largestvaccinedrive, achieves, another, miles...\n",
       "Name: full_text_lemmatiz, dtype: object"
      ]
     },
     "execution_count": 14,
     "metadata": {},
     "output_type": "execute_result"
    }
   ],
   "source": [
    "df['full_text_lemmatiz'].head()"
   ]
  },
  {
   "cell_type": "code",
   "execution_count": 15,
   "id": "5abbba4b",
   "metadata": {},
   "outputs": [
    {
     "name": "stdout",
     "output_type": "stream",
     "text": [
      "Duration: 0:00:51.837075\n"
     ]
    }
   ],
   "source": [
    "end_time=datetime.now()\n",
    "print('Duration: {}'.format(end_time-start_time))"
   ]
  },
  {
   "cell_type": "code",
   "execution_count": 16,
   "id": "1c33dba1",
   "metadata": {},
   "outputs": [],
   "source": [
    "df.to_json('stage2.json')"
   ]
  },
  {
   "cell_type": "code",
   "execution_count": null,
   "id": "a472af7a",
   "metadata": {},
   "outputs": [],
   "source": []
  }
 ],
 "metadata": {
  "kernelspec": {
   "display_name": "Python 3",
   "language": "python",
   "name": "python3"
  },
  "language_info": {
   "codemirror_mode": {
    "name": "ipython",
    "version": 3
   },
   "file_extension": ".py",
   "mimetype": "text/x-python",
   "name": "python",
   "nbconvert_exporter": "python",
   "pygments_lexer": "ipython3",
   "version": "3.8.8"
  }
 },
 "nbformat": 4,
 "nbformat_minor": 5
}
